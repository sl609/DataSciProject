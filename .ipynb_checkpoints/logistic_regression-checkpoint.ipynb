{
 "cells": [
  {
   "cell_type": "code",
   "execution_count": 59,
   "metadata": {},
   "outputs": [],
   "source": [
    "import os\n",
    "import numpy\n",
    "import pandas as pd\n",
    "from sklearn import preprocessing\n",
    "from sklearn.linear_model import LogisticRegression\n",
    "from sklearn.metrics import classification_report, confusion_matrix\n",
    "from sklearn.model_selection import train_test_split"
   ]
  },
  {
   "cell_type": "code",
   "execution_count": 96,
   "metadata": {},
   "outputs": [],
   "source": [
    "#pandas returns a pandas dataframe\n",
    "labeled_full_scan3 = pd.read_excel('labeled_full_scan3.xlsx')\n",
    "labeled_full_scan3 = labeled_full_scan3.drop_duplicates(subset = \"subject\")\n",
    "label = labeled_full_scan3['label']=='NSIP'\n",
    "\n",
    "labeled_full_scan3 = labeled_full_scan3.drop(columns = ['subject','subject_num','label'])\n",
    "\n",
    "values = labeled_full_scan3.values\n",
    "min_max_scaler = preprocessing.MinMaxScaler()\n",
    "values_scaled = min_max_scaler.fit_transform(values)\n",
    "df = pd.DataFrame(values_scaled)\n",
    "\n",
    "# organizes data for splitting and training\n",
    "y = label.values\n",
    "x = df.values\n"
   ]
  },
  {
   "cell_type": "code",
   "execution_count": 97,
   "metadata": {},
   "outputs": [],
   "source": [
    "#splits data into test and train\n",
    "xTrain, xTest, yTrain, yTest = train_test_split(x,y, test_size = .4, random_state = 0)\n",
    "\n"
   ]
  },
  {
   "cell_type": "code",
   "execution_count": 99,
   "metadata": {},
   "outputs": [
    {
     "name": "stdout",
     "output_type": "stream",
     "text": [
      "              precision    recall  f1-score   support\n",
      "\n",
      "       False       0.67      0.58      0.62        24\n",
      "        True       0.38      0.46      0.41        13\n",
      "\n",
      "    accuracy                           0.54        37\n",
      "   macro avg       0.52      0.52      0.52        37\n",
      "weighted avg       0.56      0.54      0.55        37\n",
      "\n"
     ]
    }
   ],
   "source": [
    "#performs the logistic regression for the data above\n",
    "model = LogisticRegression(solver='liblinear', random_state=0, class_weight = 'balanced')\n",
    "model.fit(xTrain,yTrain)\n",
    "\n",
    "#evaluate the model\n",
    "yTestPredict = model.predict(xTest)\n",
    "confusion_matrix(yTest,yTestPredict)\n",
    "\n",
    "#print calssification report\n",
    "print(classification_report(yTest,yTestPredict))"
   ]
  },
  {
   "cell_type": "code",
   "execution_count": null,
   "metadata": {},
   "outputs": [],
   "source": []
  },
  {
   "cell_type": "code",
   "execution_count": null,
   "metadata": {},
   "outputs": [],
   "source": []
  }
 ],
 "metadata": {
  "kernelspec": {
   "display_name": "Python 3",
   "language": "python",
   "name": "python3"
  },
  "language_info": {
   "codemirror_mode": {
    "name": "ipython",
    "version": 3
   },
   "file_extension": ".py",
   "mimetype": "text/x-python",
   "name": "python",
   "nbconvert_exporter": "python",
   "pygments_lexer": "ipython3",
   "version": "3.7.5"
  }
 },
 "nbformat": 4,
 "nbformat_minor": 2
}
