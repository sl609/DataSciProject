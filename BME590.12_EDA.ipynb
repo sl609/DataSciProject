{
 "cells": [
  {
   "cell_type": "code",
   "execution_count": 170,
   "metadata": {},
   "outputs": [],
   "source": [
    "# Basic Packages \n",
    "import numpy as np\n",
    "import pandas as pd\n",
    "import matplotlib.pyplot as plt\n",
    "import seaborn as sns\n",
    "%matplotlib inline\n",
    "\n",
    "# Additional Packages\n",
    "from mpl_toolkits.mplot3d import Axes3D\n",
    "from sklearn.preprocessing import StandardScaler # Scales data for PCA\n",
    "from sklearn.decomposition import PCA # PCA package\n",
    "from sklearn.model_selection import train_test_split\n",
    "from sklearn.svm import SVC\n",
    "from sklearn.metrics import classification_report, confusion_matrix, accuracy_score\n",
    "from sklearn.model_selection import KFold"
   ]
  },
  {
   "cell_type": "markdown",
   "metadata": {},
   "source": [
    "## Import Data and Explore"
   ]
  },
  {
   "cell_type": "code",
   "execution_count": 9,
   "metadata": {},
   "outputs": [],
   "source": [
    "df = pd.read_excel(\"data.xlsx\")"
   ]
  },
  {
   "cell_type": "code",
   "execution_count": 10,
   "metadata": {},
   "outputs": [
    {
     "data": {
      "text/plain": [
       "Index(['subject', 'age', 'label', 'RBC2barrier', 'Inflation', 'bandwidth',\n",
       "       'ven_defect', 'ven_low', 'ven_high', 'ven_SNR', 'ven_mean',\n",
       "       'ven_median', 'ven_SD', 'bar_defect', 'bar_low', 'bar_high', 'bar_SNR',\n",
       "       'bar_mean', 'bar_median', 'bar_SD', 'bar_negative', 'rbc_defect',\n",
       "       'rbc_low', 'rbc_high', 'rbc_SNR', 'rbc_mean', 'rbc_median', 'rbc_SD',\n",
       "       'rbc_negative', 'fvc', 'fe1', 'fev1-fvc', 'fev25-75'],\n",
       "      dtype='object')"
      ]
     },
     "execution_count": 10,
     "metadata": {},
     "output_type": "execute_result"
    }
   ],
   "source": [
    "df.columns"
   ]
  },
  {
   "cell_type": "code",
   "execution_count": 11,
   "metadata": {},
   "outputs": [
    {
     "data": {
      "text/plain": [
       "IPF     71\n",
       "NSIP    36\n",
       "Name: label, dtype: int64"
      ]
     },
     "execution_count": 11,
     "metadata": {},
     "output_type": "execute_result"
    }
   ],
   "source": [
    "df['label'].value_counts()"
   ]
  },
  {
   "cell_type": "code",
   "execution_count": 12,
   "metadata": {},
   "outputs": [
    {
     "data": {
      "text/plain": [
       "subject           0.00\n",
       "age             100.00\n",
       "label             0.00\n",
       "RBC2barrier      16.82\n",
       "Inflation        16.82\n",
       "bandwidth        16.82\n",
       "ven_defect       16.82\n",
       "ven_low          16.82\n",
       "ven_high         16.82\n",
       "ven_SNR          16.82\n",
       "ven_mean         16.82\n",
       "ven_median       16.82\n",
       "ven_SD           16.82\n",
       "bar_defect       16.82\n",
       "bar_low          16.82\n",
       "bar_high         16.82\n",
       "bar_SNR          16.82\n",
       "bar_mean         16.82\n",
       "bar_median       16.82\n",
       "bar_SD           16.82\n",
       "bar_negative     16.82\n",
       "rbc_defect       16.82\n",
       "rbc_low          16.82\n",
       "rbc_high         16.82\n",
       "rbc_SNR          16.82\n",
       "rbc_mean         16.82\n",
       "rbc_median       16.82\n",
       "rbc_SD           16.82\n",
       "rbc_negative     16.82\n",
       "fvc              20.56\n",
       "fe1              20.56\n",
       "fev1-fvc         20.56\n",
       "fev25-75         22.43\n",
       "dtype: float64"
      ]
     },
     "execution_count": 12,
     "metadata": {},
     "output_type": "execute_result"
    }
   ],
   "source": [
    "df = df.dropna(subset = ['label'])\n",
    "df.isna().mean().round(4) * 100"
   ]
  },
  {
   "cell_type": "code",
   "execution_count": 13,
   "metadata": {},
   "outputs": [],
   "source": [
    "df.drop(columns = ['age'], inplace = True)"
   ]
  },
  {
   "cell_type": "markdown",
   "metadata": {},
   "source": [
    "## Imputation of Missing Data"
   ]
  },
  {
   "cell_type": "code",
   "execution_count": 14,
   "metadata": {},
   "outputs": [
    {
     "data": {
      "text/html": [
       "<div>\n",
       "<style scoped>\n",
       "    .dataframe tbody tr th:only-of-type {\n",
       "        vertical-align: middle;\n",
       "    }\n",
       "\n",
       "    .dataframe tbody tr th {\n",
       "        vertical-align: top;\n",
       "    }\n",
       "\n",
       "    .dataframe thead th {\n",
       "        text-align: right;\n",
       "    }\n",
       "</style>\n",
       "<table border=\"1\" class=\"dataframe\">\n",
       "  <thead>\n",
       "    <tr style=\"text-align: right;\">\n",
       "      <th></th>\n",
       "      <th>subject</th>\n",
       "      <th>label</th>\n",
       "      <th>RBC2barrier</th>\n",
       "      <th>Inflation</th>\n",
       "      <th>bandwidth</th>\n",
       "      <th>ven_defect</th>\n",
       "      <th>ven_low</th>\n",
       "      <th>ven_high</th>\n",
       "      <th>ven_SNR</th>\n",
       "      <th>ven_mean</th>\n",
       "      <th>...</th>\n",
       "      <th>rbc_high</th>\n",
       "      <th>rbc_SNR</th>\n",
       "      <th>rbc_mean</th>\n",
       "      <th>rbc_median</th>\n",
       "      <th>rbc_SD</th>\n",
       "      <th>rbc_negative</th>\n",
       "      <th>fvc</th>\n",
       "      <th>fe1</th>\n",
       "      <th>fev1-fvc</th>\n",
       "      <th>fev25-75</th>\n",
       "    </tr>\n",
       "  </thead>\n",
       "  <tbody>\n",
       "    <tr>\n",
       "      <th>0</th>\n",
       "      <td>002-034</td>\n",
       "      <td>IPF</td>\n",
       "      <td>0.21093</td>\n",
       "      <td>1.49814</td>\n",
       "      <td>797.194</td>\n",
       "      <td>0.130264</td>\n",
       "      <td>0.260604</td>\n",
       "      <td>0.0436658</td>\n",
       "      <td>16.0091</td>\n",
       "      <td>0.458269</td>\n",
       "      <td>...</td>\n",
       "      <td>0.0214333</td>\n",
       "      <td>4.92724</td>\n",
       "      <td>0.291617</td>\n",
       "      <td>0.272775</td>\n",
       "      <td>0.17703</td>\n",
       "      <td>0.0282859</td>\n",
       "      <td>77</td>\n",
       "      <td>76</td>\n",
       "      <td>104</td>\n",
       "      <td>58</td>\n",
       "    </tr>\n",
       "    <tr>\n",
       "      <th>1</th>\n",
       "      <td>002-044</td>\n",
       "      <td>IPF</td>\n",
       "      <td>0.21093</td>\n",
       "      <td>1.49814</td>\n",
       "      <td>797.194</td>\n",
       "      <td>0.130264</td>\n",
       "      <td>0.260604</td>\n",
       "      <td>0.0436658</td>\n",
       "      <td>16.0091</td>\n",
       "      <td>0.458269</td>\n",
       "      <td>...</td>\n",
       "      <td>0.0214333</td>\n",
       "      <td>4.92724</td>\n",
       "      <td>0.291617</td>\n",
       "      <td>0.272775</td>\n",
       "      <td>0.17703</td>\n",
       "      <td>0.0282859</td>\n",
       "      <td>77</td>\n",
       "      <td>76</td>\n",
       "      <td>104</td>\n",
       "      <td>58</td>\n",
       "    </tr>\n",
       "    <tr>\n",
       "      <th>2</th>\n",
       "      <td>002-046</td>\n",
       "      <td>IPF</td>\n",
       "      <td>0.21093</td>\n",
       "      <td>1.49814</td>\n",
       "      <td>797.194</td>\n",
       "      <td>0.130264</td>\n",
       "      <td>0.260604</td>\n",
       "      <td>0.0436658</td>\n",
       "      <td>16.0091</td>\n",
       "      <td>0.458269</td>\n",
       "      <td>...</td>\n",
       "      <td>0.0214333</td>\n",
       "      <td>4.92724</td>\n",
       "      <td>0.291617</td>\n",
       "      <td>0.272775</td>\n",
       "      <td>0.17703</td>\n",
       "      <td>0.0282859</td>\n",
       "      <td>77</td>\n",
       "      <td>76</td>\n",
       "      <td>104</td>\n",
       "      <td>58</td>\n",
       "    </tr>\n",
       "    <tr>\n",
       "      <th>3</th>\n",
       "      <td>002-047</td>\n",
       "      <td>IPF</td>\n",
       "      <td>0.21093</td>\n",
       "      <td>1.49814</td>\n",
       "      <td>797.194</td>\n",
       "      <td>0.130264</td>\n",
       "      <td>0.260604</td>\n",
       "      <td>0.0436658</td>\n",
       "      <td>16.0091</td>\n",
       "      <td>0.458269</td>\n",
       "      <td>...</td>\n",
       "      <td>0.0214333</td>\n",
       "      <td>4.92724</td>\n",
       "      <td>0.291617</td>\n",
       "      <td>0.272775</td>\n",
       "      <td>0.17703</td>\n",
       "      <td>0.0282859</td>\n",
       "      <td>77</td>\n",
       "      <td>76</td>\n",
       "      <td>104</td>\n",
       "      <td>58</td>\n",
       "    </tr>\n",
       "    <tr>\n",
       "      <th>4</th>\n",
       "      <td>002-050</td>\n",
       "      <td>IPF</td>\n",
       "      <td>0.21093</td>\n",
       "      <td>1.49814</td>\n",
       "      <td>797.194</td>\n",
       "      <td>0.130264</td>\n",
       "      <td>0.260604</td>\n",
       "      <td>0.0436658</td>\n",
       "      <td>16.0091</td>\n",
       "      <td>0.458269</td>\n",
       "      <td>...</td>\n",
       "      <td>0.0214333</td>\n",
       "      <td>4.92724</td>\n",
       "      <td>0.291617</td>\n",
       "      <td>0.272775</td>\n",
       "      <td>0.17703</td>\n",
       "      <td>0.0282859</td>\n",
       "      <td>77</td>\n",
       "      <td>76</td>\n",
       "      <td>104</td>\n",
       "      <td>58</td>\n",
       "    </tr>\n",
       "    <tr>\n",
       "      <th>...</th>\n",
       "      <td>...</td>\n",
       "      <td>...</td>\n",
       "      <td>...</td>\n",
       "      <td>...</td>\n",
       "      <td>...</td>\n",
       "      <td>...</td>\n",
       "      <td>...</td>\n",
       "      <td>...</td>\n",
       "      <td>...</td>\n",
       "      <td>...</td>\n",
       "      <td>...</td>\n",
       "      <td>...</td>\n",
       "      <td>...</td>\n",
       "      <td>...</td>\n",
       "      <td>...</td>\n",
       "      <td>...</td>\n",
       "      <td>...</td>\n",
       "      <td>...</td>\n",
       "      <td>...</td>\n",
       "      <td>...</td>\n",
       "      <td>...</td>\n",
       "    </tr>\n",
       "    <tr>\n",
       "      <th>102</th>\n",
       "      <td>002-161</td>\n",
       "      <td>NSIP</td>\n",
       "      <td>0.166875</td>\n",
       "      <td>2.35788</td>\n",
       "      <td>797.194</td>\n",
       "      <td>0.0269987</td>\n",
       "      <td>0.142228</td>\n",
       "      <td>0.14175</td>\n",
       "      <td>8.6541</td>\n",
       "      <td>0.605112</td>\n",
       "      <td>...</td>\n",
       "      <td>0.0336642</td>\n",
       "      <td>1.7273</td>\n",
       "      <td>0.239186</td>\n",
       "      <td>0.206631</td>\n",
       "      <td>0.223102</td>\n",
       "      <td>0.1889</td>\n",
       "      <td>52</td>\n",
       "      <td>53</td>\n",
       "      <td>103</td>\n",
       "      <td>71</td>\n",
       "    </tr>\n",
       "    <tr>\n",
       "      <th>103</th>\n",
       "      <td>002-163</td>\n",
       "      <td>NSIP</td>\n",
       "      <td>0.165095</td>\n",
       "      <td>3.04086</td>\n",
       "      <td>797.194</td>\n",
       "      <td>0.107052</td>\n",
       "      <td>0.25219</td>\n",
       "      <td>0.115944</td>\n",
       "      <td>21.0494</td>\n",
       "      <td>0.511014</td>\n",
       "      <td>...</td>\n",
       "      <td>0.00169605</td>\n",
       "      <td>4.44014</td>\n",
       "      <td>0.178011</td>\n",
       "      <td>0.168353</td>\n",
       "      <td>0.116568</td>\n",
       "      <td>0.0622522</td>\n",
       "      <td>75</td>\n",
       "      <td>76</td>\n",
       "      <td>100</td>\n",
       "      <td>70</td>\n",
       "    </tr>\n",
       "    <tr>\n",
       "      <th>104</th>\n",
       "      <td>002-164</td>\n",
       "      <td>NSIP</td>\n",
       "      <td>0.189125</td>\n",
       "      <td>2.78094</td>\n",
       "      <td>797.194</td>\n",
       "      <td>0.0862103</td>\n",
       "      <td>0.246538</td>\n",
       "      <td>0.0965257</td>\n",
       "      <td>15.9978</td>\n",
       "      <td>0.514989</td>\n",
       "      <td>...</td>\n",
       "      <td>0.00387376</td>\n",
       "      <td>3.10894</td>\n",
       "      <td>0.185587</td>\n",
       "      <td>0.16533</td>\n",
       "      <td>0.142729</td>\n",
       "      <td>0.0991484</td>\n",
       "      <td>81</td>\n",
       "      <td>92</td>\n",
       "      <td>113</td>\n",
       "      <td>161</td>\n",
       "    </tr>\n",
       "    <tr>\n",
       "      <th>105</th>\n",
       "      <td>002-165</td>\n",
       "      <td>NSIP</td>\n",
       "      <td>0.22962</td>\n",
       "      <td>3.54611</td>\n",
       "      <td>797.194</td>\n",
       "      <td>0.142049</td>\n",
       "      <td>0.483274</td>\n",
       "      <td>0.0221517</td>\n",
       "      <td>5.04411</td>\n",
       "      <td>0.374598</td>\n",
       "      <td>...</td>\n",
       "      <td>0.0411277</td>\n",
       "      <td>0.923032</td>\n",
       "      <td>0.233056</td>\n",
       "      <td>0.167561</td>\n",
       "      <td>0.387257</td>\n",
       "      <td>0.216852</td>\n",
       "      <td>38</td>\n",
       "      <td>44</td>\n",
       "      <td>114</td>\n",
       "      <td>84</td>\n",
       "    </tr>\n",
       "    <tr>\n",
       "      <th>106</th>\n",
       "      <td>002-167</td>\n",
       "      <td>NSIP</td>\n",
       "      <td>0.143735</td>\n",
       "      <td>2.59308</td>\n",
       "      <td>797.194</td>\n",
       "      <td>0.134659</td>\n",
       "      <td>0.337425</td>\n",
       "      <td>0.0583147</td>\n",
       "      <td>15.0249</td>\n",
       "      <td>0.444703</td>\n",
       "      <td>...</td>\n",
       "      <td>0.0044604</td>\n",
       "      <td>2.14802</td>\n",
       "      <td>0.159243</td>\n",
       "      <td>0.136888</td>\n",
       "      <td>0.14884</td>\n",
       "      <td>0.190785</td>\n",
       "      <td>73</td>\n",
       "      <td>76</td>\n",
       "      <td>104</td>\n",
       "      <td>79</td>\n",
       "    </tr>\n",
       "  </tbody>\n",
       "</table>\n",
       "<p>107 rows × 32 columns</p>\n",
       "</div>"
      ],
      "text/plain": [
       "     subject label RBC2barrier Inflation bandwidth ven_defect   ven_low  \\\n",
       "0    002-034   IPF     0.21093   1.49814   797.194   0.130264  0.260604   \n",
       "1    002-044   IPF     0.21093   1.49814   797.194   0.130264  0.260604   \n",
       "2    002-046   IPF     0.21093   1.49814   797.194   0.130264  0.260604   \n",
       "3    002-047   IPF     0.21093   1.49814   797.194   0.130264  0.260604   \n",
       "4    002-050   IPF     0.21093   1.49814   797.194   0.130264  0.260604   \n",
       "..       ...   ...         ...       ...       ...        ...       ...   \n",
       "102  002-161  NSIP    0.166875   2.35788   797.194  0.0269987  0.142228   \n",
       "103  002-163  NSIP    0.165095   3.04086   797.194   0.107052   0.25219   \n",
       "104  002-164  NSIP    0.189125   2.78094   797.194  0.0862103  0.246538   \n",
       "105  002-165  NSIP     0.22962   3.54611   797.194   0.142049  0.483274   \n",
       "106  002-167  NSIP    0.143735   2.59308   797.194   0.134659  0.337425   \n",
       "\n",
       "      ven_high  ven_SNR  ven_mean  ...    rbc_high   rbc_SNR  rbc_mean  \\\n",
       "0    0.0436658  16.0091  0.458269  ...   0.0214333   4.92724  0.291617   \n",
       "1    0.0436658  16.0091  0.458269  ...   0.0214333   4.92724  0.291617   \n",
       "2    0.0436658  16.0091  0.458269  ...   0.0214333   4.92724  0.291617   \n",
       "3    0.0436658  16.0091  0.458269  ...   0.0214333   4.92724  0.291617   \n",
       "4    0.0436658  16.0091  0.458269  ...   0.0214333   4.92724  0.291617   \n",
       "..         ...      ...       ...  ...         ...       ...       ...   \n",
       "102    0.14175   8.6541  0.605112  ...   0.0336642    1.7273  0.239186   \n",
       "103   0.115944  21.0494  0.511014  ...  0.00169605   4.44014  0.178011   \n",
       "104  0.0965257  15.9978  0.514989  ...  0.00387376   3.10894  0.185587   \n",
       "105  0.0221517  5.04411  0.374598  ...   0.0411277  0.923032  0.233056   \n",
       "106  0.0583147  15.0249  0.444703  ...   0.0044604   2.14802  0.159243   \n",
       "\n",
       "    rbc_median    rbc_SD rbc_negative fvc fe1 fev1-fvc fev25-75  \n",
       "0     0.272775   0.17703    0.0282859  77  76      104       58  \n",
       "1     0.272775   0.17703    0.0282859  77  76      104       58  \n",
       "2     0.272775   0.17703    0.0282859  77  76      104       58  \n",
       "3     0.272775   0.17703    0.0282859  77  76      104       58  \n",
       "4     0.272775   0.17703    0.0282859  77  76      104       58  \n",
       "..         ...       ...          ...  ..  ..      ...      ...  \n",
       "102   0.206631  0.223102       0.1889  52  53      103       71  \n",
       "103   0.168353  0.116568    0.0622522  75  76      100       70  \n",
       "104    0.16533  0.142729    0.0991484  81  92      113      161  \n",
       "105   0.167561  0.387257     0.216852  38  44      114       84  \n",
       "106   0.136888   0.14884     0.190785  73  76      104       79  \n",
       "\n",
       "[107 rows x 32 columns]"
      ]
     },
     "execution_count": 14,
     "metadata": {},
     "output_type": "execute_result"
    }
   ],
   "source": [
    "from sklearn.impute import SimpleImputer\n",
    "imp_mean = SimpleImputer(strategy = 'most_frequent')\n",
    "imp_mean.fit(df)\n",
    "total_df = pd.DataFrame(imp_mean.transform(df))\n",
    "total_df.columns = df.columns\n",
    "total_df"
   ]
  },
  {
   "cell_type": "code",
   "execution_count": 15,
   "metadata": {},
   "outputs": [
    {
     "data": {
      "text/plain": [
       "subject           object\n",
       "label           category\n",
       "RBC2barrier       object\n",
       "Inflation         object\n",
       "bandwidth         object\n",
       "ven_defect        object\n",
       "ven_low           object\n",
       "ven_high          object\n",
       "ven_SNR           object\n",
       "ven_mean          object\n",
       "ven_median        object\n",
       "ven_SD            object\n",
       "bar_defect        object\n",
       "bar_low           object\n",
       "bar_high          object\n",
       "bar_SNR           object\n",
       "bar_mean          object\n",
       "bar_median        object\n",
       "bar_SD            object\n",
       "bar_negative      object\n",
       "rbc_defect        object\n",
       "rbc_low           object\n",
       "rbc_high          object\n",
       "rbc_SNR           object\n",
       "rbc_mean          object\n",
       "rbc_median        object\n",
       "rbc_SD            object\n",
       "rbc_negative      object\n",
       "fvc               object\n",
       "fe1               object\n",
       "fev1-fvc          object\n",
       "fev25-75          object\n",
       "code_label          int8\n",
       "dtype: object"
      ]
     },
     "execution_count": 15,
     "metadata": {},
     "output_type": "execute_result"
    }
   ],
   "source": [
    "total_df['label'] = pd.Categorical(total_df['label'])\n",
    "total_df['code_label'] = total_df.label.cat.codes # add column for binary numeric label \n",
    "total_df.dtypes"
   ]
  },
  {
   "cell_type": "markdown",
   "metadata": {},
   "source": [
    "### PCA "
   ]
  },
  {
   "cell_type": "code",
   "execution_count": 16,
   "metadata": {},
   "outputs": [
    {
     "name": "stderr",
     "output_type": "stream",
     "text": [
      "/home/peppermint/.virtualenvs/cv/lib/python3.6/site-packages/ipykernel_launcher.py:1: FutureWarning: The 'get_values' method is deprecated and will be removed in a future version. Use '.to_numpy()' or '.array' instead.\n",
      "  \"\"\"Entry point for launching an IPython kernel.\n"
     ]
    },
    {
     "data": {
      "text/plain": [
       "array(['RBC2barrier', 'Inflation', 'bandwidth', 'ven_defect', 'ven_low',\n",
       "       'ven_high', 'ven_SNR', 'ven_mean', 'ven_median', 'ven_SD',\n",
       "       'bar_defect', 'bar_low', 'bar_high', 'bar_SNR', 'bar_mean',\n",
       "       'bar_median', 'bar_SD', 'bar_negative', 'rbc_defect', 'rbc_low',\n",
       "       'rbc_high', 'rbc_SNR', 'rbc_mean', 'rbc_median', 'rbc_SD',\n",
       "       'rbc_negative', 'fvc', 'fe1', 'fev1-fvc', 'fev25-75'], dtype=object)"
      ]
     },
     "execution_count": 16,
     "metadata": {},
     "output_type": "execute_result"
    }
   ],
   "source": [
    "features = total_df.columns.get_values()\n",
    "features = features[2:-1]\n",
    "features"
   ]
  },
  {
   "cell_type": "code",
   "execution_count": 17,
   "metadata": {},
   "outputs": [
    {
     "data": {
      "image/png": "[encoded data removed]",
      "text/plain": [
       "<Figure size 576x576 with 1 Axes>"
      ]
     },
     "metadata": {
      "needs_background": "light"
     },
     "output_type": "display_data"
    }
   ],
   "source": [
    "\n",
    "# Separating out the features\n",
    "x = total_df.loc[:, features].values\n",
    "\n",
    "# Separating out the target label\n",
    "y = total_df.loc[:,['label']].values\n",
    "\n",
    "# Standardizing the features\n",
    "x = StandardScaler().fit_transform(x)\n",
    "\n",
    "\n",
    "pca = PCA(n_components=2)\n",
    "principalComponents = pca.fit_transform(x)\n",
    "principalDf = pd.DataFrame(data = principalComponents\n",
    "             , columns = ['principal component 1', 'principal component 2'])\n",
    "\n",
    "finalDf = pd.concat([principalDf, total_df[['label']]], axis = 1)\n",
    "\n",
    "fig = plt.figure(figsize = (8,8))\n",
    "ax = fig.add_subplot(1,1,1) \n",
    "ax.set_xlabel('Principal Component 1', fontsize = 15)\n",
    "ax.set_ylabel('Principal Component 2', fontsize = 15)\n",
    "ax.set_title('2 component PCA', fontsize = 20)\n",
    "targets = ['IPF', 'NSIP']\n",
    "colors = ['orange', 'b']\n",
    "for target, color in zip(targets,colors):\n",
    "    indicesToKeep = finalDf['label'] == target\n",
    "    ax.scatter(finalDf.loc[indicesToKeep, 'principal component 1']\n",
    "               , finalDf.loc[indicesToKeep, 'principal component 2']\n",
    "               , c = color\n",
    "               , s = 50)\n",
    "ax.legend(targets)\n",
    "ax.grid()"
   ]
  },
  {
   "cell_type": "code",
   "execution_count": 18,
   "metadata": {},
   "outputs": [
    {
     "data": {
      "image/png": "[encoded data removed]",
      "text/plain": [
       "<Figure size 576x432 with 1 Axes>"
      ]
     },
     "metadata": {
      "needs_background": "light"
     },
     "output_type": "display_data"
    }
   ],
   "source": [
    "fig = plt.figure(figsize=(8, 6))\n",
    "ax = fig.add_subplot(111, projection='3d')\n",
    "\n",
    "c= df[df['label']=='IPF'];\n",
    "n= df[df['label']=='NSIP'];\n",
    "\n",
    "ax.scatter(c['ven_mean'], c['bar_mean'], c['rbc_mean'], c='b', marker='^')\n",
    "ax.scatter(n['ven_mean'], n['bar_mean'], n['rbc_mean'], c='k', marker='x')\n",
    "\n",
    "ax.set_xlabel('ven_mean')\n",
    "ax.set_ylabel('bar_mean')\n",
    "ax.set_zlabel('rbc_mean')\n",
    "\n",
    "plt.show()"
   ]
  },
  {
   "cell_type": "code",
   "execution_count": 45,
   "metadata": {},
   "outputs": [
    {
     "data": {
      "text/plain": [
       "\"\\nfig = plt.figure(figsize=(8, 6))\\nax = fig.add_subplot(111)\\n\\nax.scatter(h['ven_mean'], h['bar_mean'], c='r', marker='o')\\nax.scatter(c['ven_mean'], c['bar_mean'], c='b', marker='^')\\nax.scatter(n['ven_mean'], n['bar_mean'], c='k', marker='x')\\n\\nax.set_xlabel('ven_mean')\\nax.set_ylabel('bar_mean')\\n\""
      ]
     },
     "execution_count": 45,
     "metadata": {},
     "output_type": "execute_result"
    }
   ],
   "source": [
    "\"\"\"\n",
    "fig = plt.figure(figsize=(8, 6))\n",
    "ax = fig.add_subplot(111)\n",
    "\n",
    "ax.scatter(h['ven_mean'], h['bar_mean'], c='r', marker='o')\n",
    "ax.scatter(c['ven_mean'], c['bar_mean'], c='b', marker='^')\n",
    "ax.scatter(n['ven_mean'], n['bar_mean'], c='k', marker='x')\n",
    "\n",
    "ax.set_xlabel('ven_mean')\n",
    "ax.set_ylabel('bar_mean')\n",
    "\"\"\""
   ]
  },
  {
   "cell_type": "code",
   "execution_count": null,
   "metadata": {},
   "outputs": [],
   "source": [
    "fig = plt.figure(figsize=(8, 6))\n",
    "ax = fig.add_subplot(111)\n",
    "\n",
    "ax.scatter(h['bar_mean'], h['rbc_mean'], c='r', marker='o')\n",
    "ax.scatter(c['bar_mean'], c['rbc_mean'], c='b', marker='^')\n",
    "ax.scatter(n['bar_mean'], n['rbc_mean'], c='k', marker='x')\n",
    "\n",
    "ax.set_xlabel('bar_mean')\n",
    "ax.set_ylabel('rbc_mean')"
   ]
  },
  {
   "cell_type": "code",
   "execution_count": 44,
   "metadata": {},
   "outputs": [
    {
     "data": {
      "text/plain": [
       "30"
      ]
     },
     "execution_count": 44,
     "metadata": {},
     "output_type": "execute_result"
    }
   ],
   "source": [
    "# Maximum number of components min(features, observations-1)\n",
    "\n",
    "max_num_PCA=min(len(features),len(total_df.index))\n",
    "max_num_PCA"
   ]
  },
  {
   "cell_type": "code",
   "execution_count": 50,
   "metadata": {},
   "outputs": [],
   "source": [
    "### Just copy Peter code cause too lazy and why not\n",
    "\n",
    "\n",
    "# Separating out the features\n",
    "x = total_df.loc[:, features].values\n",
    "\n",
    "# Separating out the target label\n",
    "y = total_df.loc[:,['label']].values\n",
    "\n",
    "# Standardizing the features\n",
    "x = StandardScaler().fit_transform(x)\n",
    "\n",
    "\n",
    "pca = PCA(n_components=max_num_PCA)\n",
    "principalComponents = pca.fit(x)"
   ]
  },
  {
   "cell_type": "code",
   "execution_count": 158,
   "metadata": {},
   "outputs": [
    {
     "data": {
      "text/plain": [
       "Text(0.5, 1.0, 'Scree Plot')"
      ]
     },
     "execution_count": 158,
     "metadata": {},
     "output_type": "execute_result"
    },
    {
     "data": {
      "image/png": "[encoded data removed]",
      "text/plain": [
       "<Figure size 432x288 with 1 Axes>"
      ]
     },
     "metadata": {
      "needs_background": "light"
     },
     "output_type": "display_data"
    }
   ],
   "source": [
    "# ref : https://jakevdp.github.io/PythonDataScienceHandbook/05.09-principal-component-analysis.html\n",
    "\n",
    "plt.plot(range(1,max_num_PCA+1),np.cumsum(principalComponents.explained_variance_ratio_))\n",
    "plt.xlabel('number of components')\n",
    "plt.ylabel('cumulative explained variance');\n",
    "plt.title('Scree Plot')\n"
   ]
  },
  {
   "cell_type": "code",
   "execution_count": 69,
   "metadata": {},
   "outputs": [
    {
     "data": {
      "text/plain": [
       "8"
      ]
     },
     "execution_count": 69,
     "metadata": {},
     "output_type": "execute_result"
    }
   ],
   "source": [
    "# find number of component that explain 90% \n",
    "# the code refer to https://stackoverflow.com/questions/9706041/finding-index-of-an-item-closest-to-the-value-in-a-list-thats-not-entirely-sort\n",
    "\n",
    "cumsum=np.cumsum(principalComponents.explained_variance_ratio_)\n",
    "\n",
    "# Plus one because index in python start with 0\n",
    "min_number=min(range(len(cumsum)), key=lambda i: abs(cumsum[i]-0.9))+1\n",
    "min_number"
   ]
  },
  {
   "cell_type": "markdown",
   "metadata": {},
   "source": [
    "## Classical Machine Learning"
   ]
  },
  {
   "cell_type": "markdown",
   "metadata": {},
   "source": [
    "### SVM"
   ]
  },
  {
   "cell_type": "code",
   "execution_count": 28,
   "metadata": {},
   "outputs": [],
   "source": [
    "svm_data=total_df.drop(['subject','label'], axis=1)"
   ]
  },
  {
   "cell_type": "code",
   "execution_count": 182,
   "metadata": {},
   "outputs": [],
   "source": [
    "X = svm_data.drop('code_label', axis=1).values\n",
    "y = svm_data['code_label'].values"
   ]
  },
  {
   "cell_type": "code",
   "execution_count": 183,
   "metadata": {},
   "outputs": [
    {
     "data": {
      "text/plain": [
       "0    71\n",
       "1    36\n",
       "Name: code_label, dtype: int64"
      ]
     },
     "execution_count": 183,
     "metadata": {},
     "output_type": "execute_result"
    }
   ],
   "source": [
    "svm_data['code_label'].value_counts()"
   ]
  },
  {
   "cell_type": "code",
   "execution_count": 184,
   "metadata": {},
   "outputs": [],
   "source": [
    "X_train, X_test, y_train, y_test = train_test_split(X, y, test_size = 0.20)"
   ]
  },
  {
   "cell_type": "code",
   "execution_count": 185,
   "metadata": {},
   "outputs": [
    {
     "data": {
      "text/plain": [
       "SVC(C=1.0, cache_size=200, class_weight=None, coef0=0.0,\n",
       "    decision_function_shape='ovr', degree=3, gamma='auto_deprecated',\n",
       "    kernel='rbf', max_iter=-1, probability=False, random_state=None,\n",
       "    shrinking=True, tol=0.001, verbose=False)"
      ]
     },
     "execution_count": 185,
     "metadata": {},
     "output_type": "execute_result"
    }
   ],
   "source": [
    "svclassifier = SVC(kernel='rbf')\n",
    "svclassifier.fit(X_train, y_train)"
   ]
  },
  {
   "cell_type": "code",
   "execution_count": 186,
   "metadata": {},
   "outputs": [],
   "source": [
    "y_pred = svclassifier.predict(X_test)"
   ]
  },
  {
   "cell_type": "code",
   "execution_count": 187,
   "metadata": {},
   "outputs": [
    {
     "name": "stdout",
     "output_type": "stream",
     "text": [
      "[[13  1]\n",
      " [ 8  0]]\n",
      "              precision    recall  f1-score   support\n",
      "\n",
      "           0       0.62      0.93      0.74        14\n",
      "           1       0.00      0.00      0.00         8\n",
      "\n",
      "    accuracy                           0.59        22\n",
      "   macro avg       0.31      0.46      0.37        22\n",
      "weighted avg       0.39      0.59      0.47        22\n",
      "\n"
     ]
    }
   ],
   "source": [
    "print(confusion_matrix(y_test,y_pred))\n",
    "print(classification_report(y_test,y_pred))"
   ]
  },
  {
   "cell_type": "markdown",
   "metadata": {},
   "source": [
    "Ref\n",
    "https://stackabuse.com/implementing-svm-and-kernel-svm-with-pythons-scikit-learn/"
   ]
  },
  {
   "cell_type": "code",
   "execution_count": 188,
   "metadata": {},
   "outputs": [],
   "source": [
    "import warnings\n",
    "warnings.filterwarnings('ignore')"
   ]
  },
  {
   "cell_type": "code",
   "execution_count": 189,
   "metadata": {},
   "outputs": [],
   "source": [
    "X = svm_data.drop('code_label', axis=1).values\n",
    "y = svm_data['code_label'].values"
   ]
  },
  {
   "cell_type": "code",
   "execution_count": 190,
   "metadata": {},
   "outputs": [],
   "source": [
    "X_train, X_test, y_train, y_test = train_test_split(X, y, test_size = 0.20)"
   ]
  },
  {
   "cell_type": "code",
   "execution_count": 191,
   "metadata": {},
   "outputs": [],
   "source": [
    "pca = PCA(n_components=max_num_PCA)\n",
    "principalComponents = pca.fit(X_train)"
   ]
  },
  {
   "cell_type": "code",
   "execution_count": 192,
   "metadata": {},
   "outputs": [],
   "source": [
    "X_train_all = principalComponents.transform(X_train)\n",
    "X_test_all = principalComponents.transform(X_test)"
   ]
  },
  {
   "cell_type": "code",
   "execution_count": 193,
   "metadata": {},
   "outputs": [],
   "source": [
    "accuracys=[];\n",
    "\n",
    "for number_comp in range(max_num_PCA):\n",
    "    X_train = X_train_all[:,:number_comp+1]\n",
    "    X_test = X_test_all[:,:number_comp+1]\n",
    "    svclassifier = SVC(kernel='rbf')\n",
    "    svclassifier.fit(X_train, y_train)\n",
    "    y_pred = svclassifier.predict(X_test)\n",
    "    accuracys.append(accuracy_score(y_test, y_pred))\n",
    "\n"
   ]
  },
  {
   "cell_type": "code",
   "execution_count": 194,
   "metadata": {},
   "outputs": [
    {
     "data": {
      "text/plain": [
       "Text(0, 0.5, 'accuracy')"
      ]
     },
     "execution_count": 194,
     "metadata": {},
     "output_type": "execute_result"
    },
    {
     "data": {
      "image/png": "[encoded data removed]",
      "text/plain": [
       "<Figure size 432x288 with 1 Axes>"
      ]
     },
     "metadata": {
      "needs_background": "light"
     },
     "output_type": "display_data"
    }
   ],
   "source": [
    "plt.plot(range(1,max_num_PCA+1),accuracys)\n",
    "plt.xlabel('number of components')\n",
    "plt.ylabel('accuracy')"
   ]
  },
  {
   "cell_type": "code",
   "execution_count": 195,
   "metadata": {},
   "outputs": [
    {
     "name": "stdout",
     "output_type": "stream",
     "text": [
      "We achieve the maximum accuracy at 59.09% when using 2 number of components\n"
     ]
    }
   ],
   "source": [
    "print('We achieve the maximum accuracy at '+str(round(max(accuracys)*100,2))+'% when using '+str(np.argmax(accuracys)+1)+' number of components')"
   ]
  },
  {
   "cell_type": "code",
   "execution_count": 196,
   "metadata": {},
   "outputs": [
    {
     "data": {
      "text/plain": [
       "(22, 30)"
      ]
     },
     "execution_count": 196,
     "metadata": {},
     "output_type": "execute_result"
    }
   ],
   "source": [
    "## However, since the test set is very small it is subjected to resample error so we will do K fold cross \n",
    "## validation it is only 22 that is so small\n",
    "X_test.shape"
   ]
  },
  {
   "cell_type": "code",
   "execution_count": 205,
   "metadata": {},
   "outputs": [],
   "source": [
    "# Ref https://scikit-learn.org/stable/modules/generated/sklearn.model_selection.KFold.html\n",
    "# Easier way to do if we not use PCA is cross_val_score(clf, X, y, cv=5) but we need to split X first we cannot\n",
    "# do this way\n",
    "\n",
    "accuracys=[];\n",
    "\n",
    "kf = KFold(n_splits=5)\n",
    "\n",
    "for number_comp in range(max_num_PCA):\n",
    "    accuracy_k=[];\n",
    "    for train_index, test_index in kf.split(X):\n",
    "        X_train, X_test = X[train_index,:], X[test_index,:]\n",
    "        y_train, y_test = y[train_index], y[test_index]\n",
    "        \n",
    "        pca = PCA(n_components=number_comp+1)\n",
    "        principalComponents = pca.fit(X_train)\n",
    "        \n",
    "        X_train = principalComponents.transform(X_train)\n",
    "        X_test = principalComponents.transform(X_test)\n",
    "        \n",
    "        svclassifier = SVC(kernel='rbf')\n",
    "        svclassifier.fit(X_train, y_train)\n",
    "        y_pred = svclassifier.predict(X_test)\n",
    "        accuracy_k.append(accuracy_score(y_test, y_pred))\n",
    "    accuracys.append(np.mean(accuracy_k))\n",
    "\n"
   ]
  },
  {
   "cell_type": "code",
   "execution_count": 206,
   "metadata": {},
   "outputs": [
    {
     "data": {
      "text/plain": [
       "Text(0, 0.5, 'accuracy')"
      ]
     },
     "execution_count": 206,
     "metadata": {},
     "output_type": "execute_result"
    },
    {
     "data": {
      "image/png": "[encoded data removed]",
      "text/plain": [
       "<Figure size 432x288 with 1 Axes>"
      ]
     },
     "metadata": {
      "needs_background": "light"
     },
     "output_type": "display_data"
    }
   ],
   "source": [
    "plt.plot(range(1,max_num_PCA+1),accuracys)\n",
    "plt.xlabel('number of components')\n",
    "plt.ylabel('accuracy')"
   ]
  },
  {
   "cell_type": "code",
   "execution_count": 207,
   "metadata": {},
   "outputs": [
    {
     "name": "stdout",
     "output_type": "stream",
     "text": [
      "We achieve the maximum accuracy at 48.01% when using 1 number of components\n"
     ]
    }
   ],
   "source": [
    "print('We achieve the maximum accuracy at '+str(round(max(accuracys)*100,2))+'% when using '+str(np.argmax(accuracys)+1)+' number of components')"
   ]
  },
  {
   "cell_type": "code",
   "execution_count": null,
   "metadata": {},
   "outputs": [],
   "source": []
  }
 ],
 "metadata": {
  "kernelspec": {
   "display_name": "Python 3",
   "language": "python",
   "name": "python3"
  },
  "language_info": {
   "codemirror_mode": {
    "name": "ipython",
    "version": 3
   },
   "file_extension": ".py",
   "mimetype": "text/x-python",
   "name": "python",
   "nbconvert_exporter": "python",
   "pygments_lexer": "ipython3",
   "version": "3.6.8"
  }
 },
 "nbformat": 4,
 "nbformat_minor": 2
}
