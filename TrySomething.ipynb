{
 "cells": [
  {
   "cell_type": "code",
   "execution_count": 1,
   "metadata": {},
   "outputs": [],
   "source": [
    "import numpy as np\n",
    "import pandas as pd\n",
    "import matplotlib.pyplot as plt\n",
    "import seaborn as sns\n",
    "%matplotlib inline"
   ]
  },
  {
   "cell_type": "code",
   "execution_count": 3,
   "metadata": {},
   "outputs": [],
   "source": [
    "data = pd.read_csv(\"z_stats_running.csv\")"
   ]
  },
  {
   "cell_type": "code",
   "execution_count": 4,
   "metadata": {},
   "outputs": [
    {
     "data": {
      "text/html": [
       "<div>\n",
       "<style scoped>\n",
       "    .dataframe tbody tr th:only-of-type {\n",
       "        vertical-align: middle;\n",
       "    }\n",
       "\n",
       "    .dataframe tbody tr th {\n",
       "        vertical-align: top;\n",
       "    }\n",
       "\n",
       "    .dataframe thead th {\n",
       "        text-align: right;\n",
       "    }\n",
       "</style>\n",
       "<table border=\"1\" class=\"dataframe\">\n",
       "  <thead>\n",
       "    <tr style=\"text-align: right;\">\n",
       "      <th></th>\n",
       "      <th>Unnamed: 0</th>\n",
       "      <th>label</th>\n",
       "      <th>RBC2barrier</th>\n",
       "      <th>inflation</th>\n",
       "      <th>scan_date</th>\n",
       "      <th>FOV</th>\n",
       "      <th>bandwidth</th>\n",
       "      <th>ven_defect</th>\n",
       "      <th>ven_low</th>\n",
       "      <th>ven_high</th>\n",
       "      <th>...</th>\n",
       "      <th>rbc_low</th>\n",
       "      <th>rbc_high</th>\n",
       "      <th>rbc_SNR</th>\n",
       "      <th>rbc_mean</th>\n",
       "      <th>rbc_median</th>\n",
       "      <th>rbc_SD</th>\n",
       "      <th>rbc_negative</th>\n",
       "      <th>KCO_esti</th>\n",
       "      <th>VA_esti</th>\n",
       "      <th>DLCO_esti</th>\n",
       "    </tr>\n",
       "  </thead>\n",
       "  <tbody>\n",
       "    <tr>\n",
       "      <th>0</th>\n",
       "      <td>s000001</td>\n",
       "      <td>Healthy</td>\n",
       "      <td>0.549054</td>\n",
       "      <td>3.653717</td>\n",
       "      <td>4/25/2018</td>\n",
       "      <td>40.0</td>\n",
       "      <td>398.596939</td>\n",
       "      <td>0.023437</td>\n",
       "      <td>0.121320</td>\n",
       "      <td>0.157695</td>\n",
       "      <td>...</td>\n",
       "      <td>0.215962</td>\n",
       "      <td>0.046958</td>\n",
       "      <td>4.633671</td>\n",
       "      <td>0.317240</td>\n",
       "      <td>0.308668</td>\n",
       "      <td>0.163630</td>\n",
       "      <td>0.019019</td>\n",
       "      <td>NaN</td>\n",
       "      <td>NaN</td>\n",
       "      <td>NaN</td>\n",
       "    </tr>\n",
       "    <tr>\n",
       "      <th>1</th>\n",
       "      <td>s000001A</td>\n",
       "      <td>NaN</td>\n",
       "      <td>0.500032</td>\n",
       "      <td>3.084198</td>\n",
       "      <td>NaN</td>\n",
       "      <td>NaN</td>\n",
       "      <td>NaN</td>\n",
       "      <td>NaN</td>\n",
       "      <td>NaN</td>\n",
       "      <td>NaN</td>\n",
       "      <td>...</td>\n",
       "      <td>NaN</td>\n",
       "      <td>NaN</td>\n",
       "      <td>NaN</td>\n",
       "      <td>NaN</td>\n",
       "      <td>NaN</td>\n",
       "      <td>NaN</td>\n",
       "      <td>NaN</td>\n",
       "      <td>NaN</td>\n",
       "      <td>NaN</td>\n",
       "      <td>NaN</td>\n",
       "    </tr>\n",
       "    <tr>\n",
       "      <th>2</th>\n",
       "      <td>s000001A_highBW</td>\n",
       "      <td>Healthy</td>\n",
       "      <td>0.500032</td>\n",
       "      <td>3.752991</td>\n",
       "      <td>7/5/2018</td>\n",
       "      <td>40.0</td>\n",
       "      <td>797.193878</td>\n",
       "      <td>0.031266</td>\n",
       "      <td>0.152979</td>\n",
       "      <td>0.120574</td>\n",
       "      <td>...</td>\n",
       "      <td>0.198637</td>\n",
       "      <td>0.116501</td>\n",
       "      <td>3.053313</td>\n",
       "      <td>0.403706</td>\n",
       "      <td>0.376073</td>\n",
       "      <td>0.242379</td>\n",
       "      <td>0.032819</td>\n",
       "      <td>NaN</td>\n",
       "      <td>NaN</td>\n",
       "      <td>NaN</td>\n",
       "    </tr>\n",
       "    <tr>\n",
       "      <th>3</th>\n",
       "      <td>s000001B_highBW</td>\n",
       "      <td>NaN</td>\n",
       "      <td>0.509816</td>\n",
       "      <td>4.841125</td>\n",
       "      <td>7/17/2018</td>\n",
       "      <td>40.0</td>\n",
       "      <td>398.596939</td>\n",
       "      <td>0.078243</td>\n",
       "      <td>0.278559</td>\n",
       "      <td>0.078672</td>\n",
       "      <td>...</td>\n",
       "      <td>0.223193</td>\n",
       "      <td>0.085782</td>\n",
       "      <td>1.644846</td>\n",
       "      <td>0.289498</td>\n",
       "      <td>0.253236</td>\n",
       "      <td>0.385793</td>\n",
       "      <td>0.116564</td>\n",
       "      <td>NaN</td>\n",
       "      <td>NaN</td>\n",
       "      <td>NaN</td>\n",
       "    </tr>\n",
       "    <tr>\n",
       "      <th>4</th>\n",
       "      <td>s000001H_highBW</td>\n",
       "      <td>NaN</td>\n",
       "      <td>0.534890</td>\n",
       "      <td>3.985413</td>\n",
       "      <td>6/6/2019</td>\n",
       "      <td>40.0</td>\n",
       "      <td>797.193878</td>\n",
       "      <td>0.026686</td>\n",
       "      <td>0.153238</td>\n",
       "      <td>0.122349</td>\n",
       "      <td>...</td>\n",
       "      <td>0.234980</td>\n",
       "      <td>0.047207</td>\n",
       "      <td>2.713898</td>\n",
       "      <td>0.338014</td>\n",
       "      <td>0.329244</td>\n",
       "      <td>0.205531</td>\n",
       "      <td>0.051258</td>\n",
       "      <td>NaN</td>\n",
       "      <td>NaN</td>\n",
       "      <td>NaN</td>\n",
       "    </tr>\n",
       "  </tbody>\n",
       "</table>\n",
       "<p>5 rows × 33 columns</p>\n",
       "</div>"
      ],
      "text/plain": [
       "        Unnamed: 0    label  RBC2barrier  inflation  scan_date   FOV  \\\n",
       "0          s000001  Healthy     0.549054   3.653717  4/25/2018  40.0   \n",
       "1         s000001A      NaN     0.500032   3.084198        NaN   NaN   \n",
       "2  s000001A_highBW  Healthy     0.500032   3.752991   7/5/2018  40.0   \n",
       "3  s000001B_highBW      NaN     0.509816   4.841125  7/17/2018  40.0   \n",
       "4  s000001H_highBW      NaN     0.534890   3.985413   6/6/2019  40.0   \n",
       "\n",
       "    bandwidth  ven_defect   ven_low  ven_high  ...   rbc_low  rbc_high  \\\n",
       "0  398.596939    0.023437  0.121320  0.157695  ...  0.215962  0.046958   \n",
       "1         NaN         NaN       NaN       NaN  ...       NaN       NaN   \n",
       "2  797.193878    0.031266  0.152979  0.120574  ...  0.198637  0.116501   \n",
       "3  398.596939    0.078243  0.278559  0.078672  ...  0.223193  0.085782   \n",
       "4  797.193878    0.026686  0.153238  0.122349  ...  0.234980  0.047207   \n",
       "\n",
       "    rbc_SNR  rbc_mean  rbc_median    rbc_SD  rbc_negative  KCO_esti  VA_esti  \\\n",
       "0  4.633671  0.317240    0.308668  0.163630      0.019019       NaN      NaN   \n",
       "1       NaN       NaN         NaN       NaN           NaN       NaN      NaN   \n",
       "2  3.053313  0.403706    0.376073  0.242379      0.032819       NaN      NaN   \n",
       "3  1.644846  0.289498    0.253236  0.385793      0.116564       NaN      NaN   \n",
       "4  2.713898  0.338014    0.329244  0.205531      0.051258       NaN      NaN   \n",
       "\n",
       "   DLCO_esti  \n",
       "0        NaN  \n",
       "1        NaN  \n",
       "2        NaN  \n",
       "3        NaN  \n",
       "4        NaN  \n",
       "\n",
       "[5 rows x 33 columns]"
      ]
     },
     "execution_count": 4,
     "metadata": {},
     "output_type": "execute_result"
    }
   ],
   "source": [
    "data.head()"
   ]
  },
  {
   "cell_type": "code",
   "execution_count": 5,
   "metadata": {},
   "outputs": [
    {
     "data": {
      "text/plain": [
       "Index(['Unnamed: 0', 'label', 'RBC2barrier', 'inflation', 'scan_date', 'FOV',\n",
       "       'bandwidth', 'ven_defect', 'ven_low', 'ven_high', 'ven_SNR', 'ven_mean',\n",
       "       'ven_median', 'ven_SD', 'bar_defect', 'bar_low', 'bar_high', 'bar_SNR',\n",
       "       'bar_mean', 'bar_median', 'bar_SD', 'bar_negative', 'rbc_defect',\n",
       "       'rbc_low', 'rbc_high', 'rbc_SNR', 'rbc_mean', 'rbc_median', 'rbc_SD',\n",
       "       'rbc_negative', 'KCO_esti', 'VA_esti', 'DLCO_esti'],\n",
       "      dtype='object')"
      ]
     },
     "execution_count": 5,
     "metadata": {},
     "output_type": "execute_result"
    }
   ],
   "source": [
    "data.columns"
   ]
  },
  {
   "cell_type": "code",
   "execution_count": 45,
   "metadata": {},
   "outputs": [],
   "source": [
    "use_data=data[['label','ven_mean','bar_mean','rbc_mean']]\n",
    "\n",
    "use_data=use_data.dropna(subset=['label'])\n",
    "\n",
    "use_data=use_data[use_data['label'].isin(['Healthy','COPD','NSIP'])]"
   ]
  },
  {
   "cell_type": "code",
   "execution_count": 50,
   "metadata": {},
   "outputs": [
    {
     "data": {
      "text/html": [
       "<div>\n",
       "<style scoped>\n",
       "    .dataframe tbody tr th:only-of-type {\n",
       "        vertical-align: middle;\n",
       "    }\n",
       "\n",
       "    .dataframe tbody tr th {\n",
       "        vertical-align: top;\n",
       "    }\n",
       "\n",
       "    .dataframe thead th {\n",
       "        text-align: right;\n",
       "    }\n",
       "</style>\n",
       "<table border=\"1\" class=\"dataframe\">\n",
       "  <thead>\n",
       "    <tr style=\"text-align: right;\">\n",
       "      <th></th>\n",
       "      <th>label</th>\n",
       "      <th>ven_mean</th>\n",
       "      <th>bar_mean</th>\n",
       "      <th>rbc_mean</th>\n",
       "      <th>code_label</th>\n",
       "    </tr>\n",
       "  </thead>\n",
       "  <tbody>\n",
       "    <tr>\n",
       "      <th>0</th>\n",
       "      <td>Healthy</td>\n",
       "      <td>0.662467</td>\n",
       "      <td>0.519029</td>\n",
       "      <td>0.317240</td>\n",
       "      <td>1</td>\n",
       "    </tr>\n",
       "    <tr>\n",
       "      <th>2</th>\n",
       "      <td>Healthy</td>\n",
       "      <td>0.592356</td>\n",
       "      <td>0.708547</td>\n",
       "      <td>0.403706</td>\n",
       "      <td>1</td>\n",
       "    </tr>\n",
       "    <tr>\n",
       "      <th>18</th>\n",
       "      <td>Healthy</td>\n",
       "      <td>0.681617</td>\n",
       "      <td>0.837778</td>\n",
       "      <td>0.447216</td>\n",
       "      <td>1</td>\n",
       "    </tr>\n",
       "    <tr>\n",
       "      <th>21</th>\n",
       "      <td>Healthy</td>\n",
       "      <td>0.578364</td>\n",
       "      <td>0.620228</td>\n",
       "      <td>0.402708</td>\n",
       "      <td>1</td>\n",
       "    </tr>\n",
       "    <tr>\n",
       "      <th>22</th>\n",
       "      <td>Healthy</td>\n",
       "      <td>0.563647</td>\n",
       "      <td>0.796806</td>\n",
       "      <td>0.520189</td>\n",
       "      <td>1</td>\n",
       "    </tr>\n",
       "    <tr>\n",
       "      <th>...</th>\n",
       "      <td>...</td>\n",
       "      <td>...</td>\n",
       "      <td>...</td>\n",
       "      <td>...</td>\n",
       "      <td>...</td>\n",
       "    </tr>\n",
       "    <tr>\n",
       "      <th>244</th>\n",
       "      <td>COPD</td>\n",
       "      <td>0.342031</td>\n",
       "      <td>0.278913</td>\n",
       "      <td>0.087912</td>\n",
       "      <td>0</td>\n",
       "    </tr>\n",
       "    <tr>\n",
       "      <th>245</th>\n",
       "      <td>COPD</td>\n",
       "      <td>0.421651</td>\n",
       "      <td>0.494311</td>\n",
       "      <td>0.108245</td>\n",
       "      <td>0</td>\n",
       "    </tr>\n",
       "    <tr>\n",
       "      <th>255</th>\n",
       "      <td>NSIP</td>\n",
       "      <td>0.661278</td>\n",
       "      <td>0.994537</td>\n",
       "      <td>0.158206</td>\n",
       "      <td>2</td>\n",
       "    </tr>\n",
       "    <tr>\n",
       "      <th>259</th>\n",
       "      <td>Healthy</td>\n",
       "      <td>0.700053</td>\n",
       "      <td>0.834758</td>\n",
       "      <td>0.537099</td>\n",
       "      <td>1</td>\n",
       "    </tr>\n",
       "    <tr>\n",
       "      <th>268</th>\n",
       "      <td>NSIP</td>\n",
       "      <td>0.628804</td>\n",
       "      <td>0.902345</td>\n",
       "      <td>0.152605</td>\n",
       "      <td>2</td>\n",
       "    </tr>\n",
       "  </tbody>\n",
       "</table>\n",
       "<p>95 rows × 5 columns</p>\n",
       "</div>"
      ],
      "text/plain": [
       "       label  ven_mean  bar_mean  rbc_mean  code_label\n",
       "0    Healthy  0.662467  0.519029  0.317240           1\n",
       "2    Healthy  0.592356  0.708547  0.403706           1\n",
       "18   Healthy  0.681617  0.837778  0.447216           1\n",
       "21   Healthy  0.578364  0.620228  0.402708           1\n",
       "22   Healthy  0.563647  0.796806  0.520189           1\n",
       "..       ...       ...       ...       ...         ...\n",
       "244     COPD  0.342031  0.278913  0.087912           0\n",
       "245     COPD  0.421651  0.494311  0.108245           0\n",
       "255     NSIP  0.661278  0.994537  0.158206           2\n",
       "259  Healthy  0.700053  0.834758  0.537099           1\n",
       "268     NSIP  0.628804  0.902345  0.152605           2\n",
       "\n",
       "[95 rows x 5 columns]"
      ]
     },
     "execution_count": 50,
     "metadata": {},
     "output_type": "execute_result"
    }
   ],
   "source": [
    "use_data"
   ]
  },
  {
   "cell_type": "code",
   "execution_count": 47,
   "metadata": {},
   "outputs": [],
   "source": [
    "use_data['label']=pd.Categorical(use_data['label'])"
   ]
  },
  {
   "cell_type": "code",
   "execution_count": 48,
   "metadata": {},
   "outputs": [],
   "source": [
    "use_data['code_label'] = use_data.label.cat.codes"
   ]
  },
  {
   "cell_type": "code",
   "execution_count": 49,
   "metadata": {},
   "outputs": [
    {
     "data": {
      "image/png": "[encoded data removed]",
      "text/plain": [
       "<Figure size 576x432 with 1 Axes>"
      ]
     },
     "metadata": {
      "needs_background": "light"
     },
     "output_type": "display_data"
    }
   ],
   "source": [
    "from mpl_toolkits.mplot3d import Axes3D\n",
    "fig = plt.figure(figsize=(8, 6))\n",
    "ax = fig.add_subplot(111, projection='3d')\n",
    "\n",
    "h= use_data[use_data['label']=='Healthy'];\n",
    "c= use_data[use_data['label']=='COPD'];\n",
    "n= use_data[use_data['label']=='NSIP'];\n",
    "\n",
    "\n",
    "ax.scatter(h['ven_mean'], h['bar_mean'], h['rbc_mean'], c='r', marker='o')\n",
    "ax.scatter(c['ven_mean'], c['bar_mean'], c['rbc_mean'], c='b', marker='^')\n",
    "ax.scatter(n['ven_mean'], n['bar_mean'], n['rbc_mean'], c='k', marker='x')\n",
    "\n",
    "ax.set_xlabel('ven_mean')\n",
    "ax.set_ylabel('bar_mean')\n",
    "ax.set_zlabel('rbc_mean')\n",
    "\n",
    "plt.show()"
   ]
  },
  {
   "cell_type": "code",
   "execution_count": 18,
   "metadata": {},
   "outputs": [
    {
     "data": {
      "text/plain": [
       "Text(0, 0.5, 'bar_mean')"
      ]
     },
     "execution_count": 18,
     "metadata": {},
     "output_type": "execute_result"
    },
    {
     "data": {
      "image/png": "[encoded data removed]",
      "text/plain": [
       "<Figure size 576x432 with 1 Axes>"
      ]
     },
     "metadata": {
      "needs_background": "light"
     },
     "output_type": "display_data"
    }
   ],
   "source": [
    "fig = plt.figure(figsize=(8, 6))\n",
    "ax = fig.add_subplot(111)\n",
    "\n",
    "ax.scatter(h['ven_mean'], h['bar_mean'], c='r', marker='o')\n",
    "ax.scatter(c['ven_mean'], c['bar_mean'], c='b', marker='^')\n",
    "ax.scatter(n['ven_mean'], n['bar_mean'], c='k', marker='x')\n",
    "\n",
    "ax.set_xlabel('ven_mean')\n",
    "ax.set_ylabel('bar_mean')"
   ]
  },
  {
   "cell_type": "code",
   "execution_count": 20,
   "metadata": {},
   "outputs": [
    {
     "data": {
      "text/plain": [
       "Text(0, 0.5, 'rbc_mean')"
      ]
     },
     "execution_count": 20,
     "metadata": {},
     "output_type": "execute_result"
    },
    {
     "data": {
      "image/png": "[encoded data removed]",
      "text/plain": [
       "<Figure size 576x432 with 1 Axes>"
      ]
     },
     "metadata": {
      "needs_background": "light"
     },
     "output_type": "display_data"
    }
   ],
   "source": [
    "fig = plt.figure(figsize=(8, 6))\n",
    "ax = fig.add_subplot(111)\n",
    "\n",
    "ax.scatter(h['bar_mean'], h['rbc_mean'], c='r', marker='o')\n",
    "ax.scatter(c['bar_mean'], c['rbc_mean'], c='b', marker='^')\n",
    "ax.scatter(n['bar_mean'], n['rbc_mean'], c='k', marker='x')\n",
    "\n",
    "ax.set_xlabel('bar_mean')\n",
    "ax.set_ylabel('rbc_mean')"
   ]
  },
  {
   "cell_type": "code",
   "execution_count": 75,
   "metadata": {},
   "outputs": [
    {
     "data": {
      "text/plain": [
       "0    45\n",
       "1    30\n",
       "2    20\n",
       "Name: code_label, dtype: int64"
      ]
     },
     "execution_count": 75,
     "metadata": {},
     "output_type": "execute_result"
    }
   ],
   "source": [
    "svm_data['code_label'].value_counts()"
   ]
  },
  {
   "cell_type": "code",
   "execution_count": 76,
   "metadata": {},
   "outputs": [],
   "source": [
    "svm_data=use_data.drop('label', axis=1)"
   ]
  },
  {
   "cell_type": "code",
   "execution_count": 77,
   "metadata": {},
   "outputs": [],
   "source": [
    "X=svm_data.drop('code_label', axis=1)\n",
    "y=svm_data['code_label']"
   ]
  },
  {
   "cell_type": "code",
   "execution_count": 78,
   "metadata": {},
   "outputs": [],
   "source": [
    "from sklearn.model_selection import train_test_split\n",
    "X_train, X_test, y_train, y_test = train_test_split(X, y, test_size = 0.20)"
   ]
  },
  {
   "cell_type": "code",
   "execution_count": 79,
   "metadata": {},
   "outputs": [
    {
     "data": {
      "text/plain": [
       "SVC(C=1.0, cache_size=200, class_weight=None, coef0=0.0,\n",
       "    decision_function_shape='ovr', degree=3, gamma='auto_deprecated',\n",
       "    kernel='linear', max_iter=-1, probability=False, random_state=None,\n",
       "    shrinking=True, tol=0.001, verbose=False)"
      ]
     },
     "execution_count": 79,
     "metadata": {},
     "output_type": "execute_result"
    }
   ],
   "source": [
    "from sklearn.svm import SVC\n",
    "svclassifier = SVC(kernel='linear')\n",
    "svclassifier.fit(X_train, y_train)"
   ]
  },
  {
   "cell_type": "code",
   "execution_count": 80,
   "metadata": {},
   "outputs": [],
   "source": [
    "y_pred = svclassifier.predict(X_test)"
   ]
  },
  {
   "cell_type": "code",
   "execution_count": 81,
   "metadata": {},
   "outputs": [
    {
     "name": "stdout",
     "output_type": "stream",
     "text": [
      "[[7 0 0]\n",
      " [3 5 0]\n",
      " [0 0 4]]\n",
      "              precision    recall  f1-score   support\n",
      "\n",
      "           0       0.70      1.00      0.82         7\n",
      "           1       1.00      0.62      0.77         8\n",
      "           2       1.00      1.00      1.00         4\n",
      "\n",
      "    accuracy                           0.84        19\n",
      "   macro avg       0.90      0.88      0.86        19\n",
      "weighted avg       0.89      0.84      0.84        19\n",
      "\n"
     ]
    }
   ],
   "source": [
    "from sklearn.metrics import classification_report, confusion_matrix\n",
    "print(confusion_matrix(y_test,y_pred))\n",
    "print(classification_report(y_test,y_pred))"
   ]
  },
  {
   "cell_type": "code",
   "execution_count": null,
   "metadata": {},
   "outputs": [],
   "source": []
  },
  {
   "cell_type": "markdown",
   "metadata": {},
   "source": [
    "Ref\n",
    "https://stackabuse.com/implementing-svm-and-kernel-svm-with-pythons-scikit-learn/"
   ]
  },
  {
   "cell_type": "code",
   "execution_count": null,
   "metadata": {},
   "outputs": [],
   "source": []
  },
  {
   "cell_type": "code",
   "execution_count": null,
   "metadata": {},
   "outputs": [],
   "source": []
  }
 ],
 "metadata": {
  "kernelspec": {
   "display_name": "Python 3",
   "language": "python",
   "name": "python3"
  },
  "language_info": {
   "codemirror_mode": {
    "name": "ipython",
    "version": 3
   },
   "file_extension": ".py",
   "mimetype": "text/x-python",
   "name": "python",
   "nbconvert_exporter": "python",
   "pygments_lexer": "ipython3",
   "version": "3.6.8"
  }
 },
 "nbformat": 4,
 "nbformat_minor": 2
}
